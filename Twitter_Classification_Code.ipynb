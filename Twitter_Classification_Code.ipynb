{
 "cells": [
  {
   "cell_type": "markdown",
   "id": "fd41f38a",
   "metadata": {},
   "source": [
    "# Project 3\n",
    "\n",
    "### The Data Science Process\n",
    "\n",
    "1. Problem Statement\n",
    "2. Data Collection\n",
    "3. Data Cleaning \n",
    "4. Preprocessing & EDA\n",
    "5. Modelling & Evaluation\n",
    "6. Conclusion and Suggestions\n"
   ]
  },
  {
   "cell_type": "markdown",
   "id": "b1c10662",
   "metadata": {},
   "source": [
    "# Problem Statement"
   ]
  },
  {
   "cell_type": "markdown",
   "id": "09493295",
   "metadata": {},
   "source": [
    "- Given a random posts, assign accordingly to the correct twitter account based on similar occuring words.\n",
    "- What are the most repeated words in each tweet.\n",
    "- What is the average length of words for each tweet."
   ]
  },
  {
   "cell_type": "markdown",
   "id": "50a80a4b",
   "metadata": {},
   "source": [
    "# Data Collection"
   ]
  },
  {
   "cell_type": "code",
   "execution_count": 1,
   "id": "4b1b1350",
   "metadata": {},
   "outputs": [],
   "source": [
    "import requests\n",
    "import pandas as pd\n",
    "import numpy as np\n",
    "import matplotlib.pyplot as plt\n",
    "import seaborn as sns\n",
    "import warnings\n",
    "warnings.simplefilter(action='ignore')"
   ]
  },
  {
   "cell_type": "code",
   "execution_count": 2,
   "id": "a6ba2d27",
   "metadata": {
    "scrolled": true
   },
   "outputs": [],
   "source": [
    "# import previously scraped data from twitter\n",
    "df = pd.read_csv('./dataset/df_tweets.csv')"
   ]
  },
  {
   "cell_type": "code",
   "execution_count": 3,
   "id": "b84fb7c5",
   "metadata": {},
   "outputs": [],
   "source": [
    "df = df.drop(columns='Unnamed: 0')"
   ]
  },
  {
   "cell_type": "code",
   "execution_count": 4,
   "id": "d5904ec2",
   "metadata": {},
   "outputs": [
    {
     "data": {
      "text/html": [
       "<div>\n",
       "<style scoped>\n",
       "    .dataframe tbody tr th:only-of-type {\n",
       "        vertical-align: middle;\n",
       "    }\n",
       "\n",
       "    .dataframe tbody tr th {\n",
       "        vertical-align: top;\n",
       "    }\n",
       "\n",
       "    .dataframe thead th {\n",
       "        text-align: right;\n",
       "    }\n",
       "</style>\n",
       "<table border=\"1\" class=\"dataframe\">\n",
       "  <thead>\n",
       "    <tr style=\"text-align: right;\">\n",
       "      <th></th>\n",
       "      <th>username</th>\n",
       "      <th>accident_id</th>\n",
       "      <th>created_at</th>\n",
       "      <th>text</th>\n",
       "      <th>len</th>\n",
       "      <th>source</th>\n",
       "    </tr>\n",
       "  </thead>\n",
       "  <tbody>\n",
       "    <tr>\n",
       "      <th>0</th>\n",
       "      <td>muftimenk</td>\n",
       "      <td>1452791747633979396</td>\n",
       "      <td>2021-10-26 00:18:38+00:00</td>\n",
       "      <td>Not everyone will be happy for you. Stop shari...</td>\n",
       "      <td>286</td>\n",
       "      <td>Twitter for Android</td>\n",
       "    </tr>\n",
       "    <tr>\n",
       "      <th>1</th>\n",
       "      <td>muftimenk</td>\n",
       "      <td>1452616037527076868</td>\n",
       "      <td>2021-10-25 12:40:26+00:00</td>\n",
       "      <td>Making a choice is not easy at times. Always s...</td>\n",
       "      <td>267</td>\n",
       "      <td>Twitter for Android</td>\n",
       "    </tr>\n",
       "    <tr>\n",
       "      <th>2</th>\n",
       "      <td>muftimenk</td>\n",
       "      <td>1452392455421181953</td>\n",
       "      <td>2021-10-24 21:52:00+00:00</td>\n",
       "      <td>Well done #Pakistan \\nGreat Win #PakistanCrick...</td>\n",
       "      <td>60</td>\n",
       "      <td>Twitter for Android</td>\n",
       "    </tr>\n",
       "    <tr>\n",
       "      <th>3</th>\n",
       "      <td>muftimenk</td>\n",
       "      <td>1452388751813062657</td>\n",
       "      <td>2021-10-24 21:37:17+00:00</td>\n",
       "      <td>Your good deeds won’t guarantee you Paradise. ...</td>\n",
       "      <td>282</td>\n",
       "      <td>Twitter for Android</td>\n",
       "    </tr>\n",
       "    <tr>\n",
       "      <th>4</th>\n",
       "      <td>muftimenk</td>\n",
       "      <td>1452259714318876676</td>\n",
       "      <td>2021-10-24 13:04:32+00:00</td>\n",
       "      <td>Don’t fall for Satan’s plot. He does not want ...</td>\n",
       "      <td>279</td>\n",
       "      <td>Twitter for Android</td>\n",
       "    </tr>\n",
       "  </tbody>\n",
       "</table>\n",
       "</div>"
      ],
      "text/plain": [
       "    username          accident_id                 created_at  \\\n",
       "0  muftimenk  1452791747633979396  2021-10-26 00:18:38+00:00   \n",
       "1  muftimenk  1452616037527076868  2021-10-25 12:40:26+00:00   \n",
       "2  muftimenk  1452392455421181953  2021-10-24 21:52:00+00:00   \n",
       "3  muftimenk  1452388751813062657  2021-10-24 21:37:17+00:00   \n",
       "4  muftimenk  1452259714318876676  2021-10-24 13:04:32+00:00   \n",
       "\n",
       "                                                text  len               source  \n",
       "0  Not everyone will be happy for you. Stop shari...  286  Twitter for Android  \n",
       "1  Making a choice is not easy at times. Always s...  267  Twitter for Android  \n",
       "2  Well done #Pakistan \\nGreat Win #PakistanCrick...   60  Twitter for Android  \n",
       "3  Your good deeds won’t guarantee you Paradise. ...  282  Twitter for Android  \n",
       "4  Don’t fall for Satan’s plot. He does not want ...  279  Twitter for Android  "
      ]
     },
     "execution_count": 4,
     "metadata": {},
     "output_type": "execute_result"
    }
   ],
   "source": [
    "df.head()"
   ]
  },
  {
   "cell_type": "code",
   "execution_count": 5,
   "id": "0ad9376b",
   "metadata": {},
   "outputs": [
    {
     "name": "stdout",
     "output_type": "stream",
     "text": [
      "<class 'pandas.core.frame.DataFrame'>\n",
      "RangeIndex: 1799 entries, 0 to 1798\n",
      "Data columns (total 6 columns):\n",
      " #   Column       Non-Null Count  Dtype \n",
      "---  ------       --------------  ----- \n",
      " 0   username     1799 non-null   object\n",
      " 1   accident_id  1799 non-null   int64 \n",
      " 2   created_at   1799 non-null   object\n",
      " 3   text         1799 non-null   object\n",
      " 4   len          1799 non-null   int64 \n",
      " 5   source       1799 non-null   object\n",
      "dtypes: int64(2), object(4)\n",
      "memory usage: 84.5+ KB\n"
     ]
    }
   ],
   "source": [
    "df.info()"
   ]
  },
  {
   "cell_type": "markdown",
   "id": "44739b3a",
   "metadata": {},
   "source": [
    "# Data Cleaning"
   ]
  },
  {
   "cell_type": "code",
   "execution_count": 6,
   "id": "4318378a",
   "metadata": {},
   "outputs": [],
   "source": [
    "from nltk.stem import WordNetLemmatizer\n",
    "from nltk.tokenize import sent_tokenize, word_tokenize, RegexpTokenizer\n",
    "from nltk.stem import WordNetLemmatizer\n",
    "from nltk.stem.porter import PorterStemmer\n",
    "from nltk.corpus import stopwords\n",
    "from nltk.sentiment.vader import SentimentIntensityAnalyzer\n",
    "import re"
   ]
  },
  {
   "cell_type": "code",
   "execution_count": 7,
   "id": "4508f2c6",
   "metadata": {},
   "outputs": [],
   "source": [
    "# select only the relevant columns\n",
    "df = df[['username', 'text', 'len']]"
   ]
  },
  {
   "cell_type": "code",
   "execution_count": 8,
   "id": "6da7062f",
   "metadata": {},
   "outputs": [
    {
     "data": {
      "text/plain": [
       "array(['muftimenk', 'mizi_wahid'], dtype=object)"
      ]
     },
     "execution_count": 8,
     "metadata": {},
     "output_type": "execute_result"
    }
   ],
   "source": [
    "# check both subreddits are included\n",
    "df['username'].unique()"
   ]
  },
  {
   "cell_type": "code",
   "execution_count": 9,
   "id": "3920323e",
   "metadata": {
    "scrolled": true
   },
   "outputs": [
    {
     "data": {
      "text/html": [
       "<div>\n",
       "<style scoped>\n",
       "    .dataframe tbody tr th:only-of-type {\n",
       "        vertical-align: middle;\n",
       "    }\n",
       "\n",
       "    .dataframe tbody tr th {\n",
       "        vertical-align: top;\n",
       "    }\n",
       "\n",
       "    .dataframe thead th {\n",
       "        text-align: right;\n",
       "    }\n",
       "</style>\n",
       "<table border=\"1\" class=\"dataframe\">\n",
       "  <thead>\n",
       "    <tr style=\"text-align: right;\">\n",
       "      <th></th>\n",
       "      <th>username</th>\n",
       "      <th>text</th>\n",
       "      <th>len</th>\n",
       "    </tr>\n",
       "  </thead>\n",
       "  <tbody>\n",
       "    <tr>\n",
       "      <th>0</th>\n",
       "      <td>0</td>\n",
       "      <td>Not everyone will be happy for you. Stop shari...</td>\n",
       "      <td>286</td>\n",
       "    </tr>\n",
       "    <tr>\n",
       "      <th>1</th>\n",
       "      <td>0</td>\n",
       "      <td>Making a choice is not easy at times. Always s...</td>\n",
       "      <td>267</td>\n",
       "    </tr>\n",
       "    <tr>\n",
       "      <th>2</th>\n",
       "      <td>0</td>\n",
       "      <td>Well done #Pakistan \\nGreat Win #PakistanCrick...</td>\n",
       "      <td>60</td>\n",
       "    </tr>\n",
       "    <tr>\n",
       "      <th>3</th>\n",
       "      <td>0</td>\n",
       "      <td>Your good deeds won’t guarantee you Paradise. ...</td>\n",
       "      <td>282</td>\n",
       "    </tr>\n",
       "    <tr>\n",
       "      <th>4</th>\n",
       "      <td>0</td>\n",
       "      <td>Don’t fall for Satan’s plot. He does not want ...</td>\n",
       "      <td>279</td>\n",
       "    </tr>\n",
       "  </tbody>\n",
       "</table>\n",
       "</div>"
      ],
      "text/plain": [
       "   username                                               text  len\n",
       "0         0  Not everyone will be happy for you. Stop shari...  286\n",
       "1         0  Making a choice is not easy at times. Always s...  267\n",
       "2         0  Well done #Pakistan \\nGreat Win #PakistanCrick...   60\n",
       "3         0  Your good deeds won’t guarantee you Paradise. ...  282\n",
       "4         0  Don’t fall for Satan’s plot. He does not want ...  279"
      ]
     },
     "execution_count": 9,
     "metadata": {},
     "output_type": "execute_result"
    }
   ],
   "source": [
    "# map the subreddit to a binary \n",
    "df['username'] = df['username'].map({'muftimenk': 0, 'mizi_wahid': 1})\n",
    "df.head()"
   ]
  },
  {
   "cell_type": "code",
   "execution_count": 10,
   "id": "c81d3d12",
   "metadata": {},
   "outputs": [
    {
     "name": "stdout",
     "output_type": "stream",
     "text": [
      "<class 'pandas.core.frame.DataFrame'>\n",
      "RangeIndex: 1799 entries, 0 to 1798\n",
      "Data columns (total 3 columns):\n",
      " #   Column    Non-Null Count  Dtype \n",
      "---  ------    --------------  ----- \n",
      " 0   username  1799 non-null   int64 \n",
      " 1   text      1799 non-null   object\n",
      " 2   len       1799 non-null   int64 \n",
      "dtypes: int64(2), object(1)\n",
      "memory usage: 42.3+ KB\n"
     ]
    }
   ],
   "source": [
    "df.info()"
   ]
  },
  {
   "cell_type": "code",
   "execution_count": 11,
   "id": "996d41f7",
   "metadata": {},
   "outputs": [
    {
     "data": {
      "text/plain": [
       "username    0\n",
       "text        0\n",
       "len         0\n",
       "dtype: int64"
      ]
     },
     "execution_count": 11,
     "metadata": {},
     "output_type": "execute_result"
    }
   ],
   "source": [
    "# check for null values\n",
    "df.isna().sum()"
   ]
  },
  {
   "cell_type": "code",
   "execution_count": 12,
   "id": "ae50d15c",
   "metadata": {
    "scrolled": true
   },
   "outputs": [
    {
     "name": "stdout",
     "output_type": "stream",
     "text": [
      "Cleaning sentences...\n",
      "Cleaning Done !\n",
      "----------\n",
      "\n",
      "<class 'pandas.core.frame.DataFrame'>\n",
      "RangeIndex: 1799 entries, 0 to 1798\n",
      "Data columns (total 6 columns):\n",
      " #   Column            Non-Null Count  Dtype \n",
      "---  ------            --------------  ----- \n",
      " 0   username          1799 non-null   int64 \n",
      " 1   text              1799 non-null   object\n",
      " 2   len               1799 non-null   int64 \n",
      " 3   clean_sentence    1799 non-null   object\n",
      " 4   token_sentence    1799 non-null   object\n",
      " 5   tok_lem_sentence  1799 non-null   object\n",
      "dtypes: int64(2), object(4)\n",
      "memory usage: 84.5+ KB\n",
      "None\n"
     ]
    }
   ],
   "source": [
    "STOPWORDS = set(stopwords.words('english'))\n",
    "MIN_WORDS = 4\n",
    "MAX_WORDS = 200\n",
    "\n",
    "PATTERN_S = re.compile(r\"'s\")  # matches `'s` from text\n",
    "PATTERN_NOT = re.compile(\"n't\")  # matches `n't` from text\n",
    "PATTERN_NT = re.compile(\"nt\")  # matches `n't` from text\n",
    "PATTERN_WILL = re.compile(\"'ll\")  # matches `'ll` from text\n",
    "PATTERN_ARE = re.compile(\"re\")  # matches `re` from text\n",
    "PATTERN_RN = re.compile(r\"\\r\\\\n\") #matches `\\r` and `\\n`\n",
    "PATTERN_URL = re.compile(r\"http\\S+\") # remove url\n",
    "PATTERN_HASH = re.compile(r\"#\") # remove hashtags\n",
    "PATTERN_RT = re.compile(\"rt\") # remove hashtags\n",
    "PATTERN_AT = re.compile(r\"@([a-zA-Z0-9_]{1,50})\") # remove account name from retweeted tweet\n",
    "PATTERN_PUNC = re.compile(r\"[^\\w\\s]\") # matches all non 0-9 A-z whitespace\n",
    "PATTERN_AMP = re.compile(r\"amp\") # matches all non 0-9 A-z whitespace \n",
    "\n",
    "\n",
    "def clean_text(text):\n",
    "    \"\"\"\n",
    "    Series of cleaning. String to lower case, remove non words characters and numbers (punctuation, curly brackets etc).\n",
    "        text (str): input text\n",
    "    return (str): modified initial text\n",
    "    \"\"\"\n",
    "    text = text.lower()  # lowercase text\n",
    "    text = re.sub(r\"(@[A-Za-z0-9]+)|([^0-9A-Za-z \\t])|(\\w+:\\/\\/\\S+)|^rt|http.+?\", \"\", text)\n",
    "    \n",
    "    # replace the matched string with ' '\n",
    "    #text = re.sub(PATTERN_S, ' ', text)\n",
    "    text = re.sub(PATTERN_NOT, ' not', text)\n",
    "    text = re.sub(PATTERN_NT, ' not', text)\n",
    "    #text = re.sub(PATTERN_WILL, 'will', text)\n",
    "    text = re.sub(PATTERN_ARE, ' are', text)\n",
    "    #text = re.sub(PATTERN_RN, ' ', text)\n",
    "    #text = re.sub(PATTERN_URL, ' ', text)\n",
    "    #text = re.sub(PATTERN_HASH, ' ', text)\n",
    "    #text = re.sub(PATTERN_RT, ' ', text)\n",
    "    #text = re.sub(PATTERN_AT, ' ', text)\n",
    "    #text = re.sub(PATTERN_PUNC, ' ', text)\n",
    "    text = re.sub(PATTERN_AMP, ' ', text)\n",
    "    \n",
    "    return text\n",
    "\n",
    "def tok_lem(sentence, min_words=MIN_WORDS, max_words=MAX_WORDS, stopwords=STOPWORDS, lemmatize=True):\n",
    "    \"\"\"\n",
    "    Lemmatize, tokenize, crop and remove stop words.\n",
    "    Args:\n",
    "      sentence (str)\n",
    "      min_words (int)\n",
    "      max_words (int)\n",
    "      stopwords (set of string)\n",
    "      lemmatize (boolean)\n",
    "    returns:\n",
    "      list of string\n",
    "    \"\"\"\n",
    "    if lemmatize:\n",
    "        stemmer = WordNetLemmatizer()\n",
    "        tokens = [stemmer.lemmatize(w) for w in word_tokenize(sentence)]\n",
    "    else:\n",
    "        tokens = [w for w in word_tokenize(sentence)]\n",
    "    token = [w for w in tokens if (len(w) > min_words and len(w) < max_words\n",
    "                                                        and w not in stopwords)]\n",
    "    \n",
    "    return tokens    \n",
    "\n",
    "def tokenizer(sentence, min_words=MIN_WORDS, max_words=MAX_WORDS):\n",
    "    \"\"\"\n",
    "    Lemmatize, tokenize.\n",
    "    Args:\n",
    "      sentence (str)\n",
    "      min_words (int)\n",
    "      max_words (int)\n",
    "    returns:\n",
    "      list of string\n",
    "    \"\"\"\n",
    "    stemmer = WordNetLemmatizer()\n",
    "    tokens = [stemmer.lemmatize(w) for w in word_tokenize(sentence)]\n",
    "    \n",
    "    return tokens  \n",
    "\n",
    "def clean_sentences(df):\n",
    "    \"\"\"\n",
    "    Remove irrelavant characters (in new column clean_sentence).\n",
    "    Lemmatize, tokenize words into list of words (in new column tok_lem_sentence).\n",
    "    Args: \n",
    "      df (dataframe)\n",
    "     returns:\n",
    "      df\n",
    "    \"\"\"\n",
    "    print('Cleaning sentences...')\n",
    "    df['clean_sentence'] = df['text'].apply(clean_text)\n",
    "    df['token_sentence'] = df['clean_sentence'].apply(\n",
    "        lambda x: tokenizer(x, min_words=MIN_WORDS, max_words=MAX_WORDS))\n",
    "    df['tok_lem_sentence'] = df['clean_sentence'].apply(\n",
    "        lambda x: tok_lem(x, min_words=MIN_WORDS, max_words=MAX_WORDS, stopwords=STOPWORDS))\n",
    "    \n",
    "    print('Cleaning Done !')\n",
    "    print('----------\\n')\n",
    "    print(df.info())\n",
    "    return df\n",
    "    \n",
    "df = clean_sentences(df)"
   ]
  },
  {
   "cell_type": "code",
   "execution_count": 13,
   "id": "82636d2c",
   "metadata": {},
   "outputs": [
    {
     "data": {
      "text/html": [
       "<div>\n",
       "<style scoped>\n",
       "    .dataframe tbody tr th:only-of-type {\n",
       "        vertical-align: middle;\n",
       "    }\n",
       "\n",
       "    .dataframe tbody tr th {\n",
       "        vertical-align: top;\n",
       "    }\n",
       "\n",
       "    .dataframe thead th {\n",
       "        text-align: right;\n",
       "    }\n",
       "</style>\n",
       "<table border=\"1\" class=\"dataframe\">\n",
       "  <thead>\n",
       "    <tr style=\"text-align: right;\">\n",
       "      <th></th>\n",
       "      <th>username</th>\n",
       "      <th>text</th>\n",
       "      <th>len</th>\n",
       "      <th>clean_sentence</th>\n",
       "      <th>token_sentence</th>\n",
       "      <th>tok_lem_sentence</th>\n",
       "    </tr>\n",
       "  </thead>\n",
       "  <tbody>\n",
       "    <tr>\n",
       "      <th>0</th>\n",
       "      <td>0</td>\n",
       "      <td>Not everyone will be happy for you. Stop shari...</td>\n",
       "      <td>286</td>\n",
       "      <td>not everyone will be happy for you stop sharin...</td>\n",
       "      <td>[not, everyone, will, be, happy, for, you, sto...</td>\n",
       "      <td>[not, everyone, will, be, happy, for, you, sto...</td>\n",
       "    </tr>\n",
       "    <tr>\n",
       "      <th>1</th>\n",
       "      <td>0</td>\n",
       "      <td>Making a choice is not easy at times. Always s...</td>\n",
       "      <td>267</td>\n",
       "      <td>making a choice is not easy at times always se...</td>\n",
       "      <td>[making, a, choice, is, not, easy, at, time, a...</td>\n",
       "      <td>[making, a, choice, is, not, easy, at, time, a...</td>\n",
       "    </tr>\n",
       "    <tr>\n",
       "      <th>2</th>\n",
       "      <td>0</td>\n",
       "      <td>Well done #Pakistan \\nGreat Win #PakistanCrick...</td>\n",
       "      <td>60</td>\n",
       "      <td>well done pakistan g areat win pakistancricket...</td>\n",
       "      <td>[well, done, pakistan, g, areat, win, pakistan...</td>\n",
       "      <td>[well, done, pakistan, g, areat, win, pakistan...</td>\n",
       "    </tr>\n",
       "    <tr>\n",
       "      <th>3</th>\n",
       "      <td>0</td>\n",
       "      <td>Your good deeds won’t guarantee you Paradise. ...</td>\n",
       "      <td>282</td>\n",
       "      <td>your good deeds wo not guara notee you paradis...</td>\n",
       "      <td>[your, good, deed, wo, not, guara, notee, you,...</td>\n",
       "      <td>[your, good, deed, wo, not, guara, notee, you,...</td>\n",
       "    </tr>\n",
       "    <tr>\n",
       "      <th>4</th>\n",
       "      <td>0</td>\n",
       "      <td>Don’t fall for Satan’s plot. He does not want ...</td>\n",
       "      <td>279</td>\n",
       "      <td>do not fall for satans plot he does not wa not...</td>\n",
       "      <td>[do, not, fall, for, satan, plot, he, doe, not...</td>\n",
       "      <td>[do, not, fall, for, satan, plot, he, doe, not...</td>\n",
       "    </tr>\n",
       "    <tr>\n",
       "      <th>5</th>\n",
       "      <td>0</td>\n",
       "      <td>We tend to think the grass is always greener o...</td>\n",
       "      <td>276</td>\n",
       "      <td>we tend to think the grass is always g areener...</td>\n",
       "      <td>[we, tend, to, think, the, grass, is, always, ...</td>\n",
       "      <td>[we, tend, to, think, the, grass, is, always, ...</td>\n",
       "    </tr>\n",
       "    <tr>\n",
       "      <th>6</th>\n",
       "      <td>0</td>\n",
       "      <td>We are in a sad state today. We let society di...</td>\n",
       "      <td>278</td>\n",
       "      <td>we a are in a sad state today we let society d...</td>\n",
       "      <td>[we, a, are, in, a, sad, state, today, we, let...</td>\n",
       "      <td>[we, a, are, in, a, sad, state, today, we, let...</td>\n",
       "    </tr>\n",
       "    <tr>\n",
       "      <th>7</th>\n",
       "      <td>0</td>\n",
       "      <td>Knowing what not to say is equally important. ...</td>\n",
       "      <td>292</td>\n",
       "      <td>knowing what not to say is equally importa not...</td>\n",
       "      <td>[knowing, what, not, to, say, is, equally, imp...</td>\n",
       "      <td>[knowing, what, not, to, say, is, equally, imp...</td>\n",
       "    </tr>\n",
       "    <tr>\n",
       "      <th>8</th>\n",
       "      <td>0</td>\n",
       "      <td>Don’t let them make you believe that loving yo...</td>\n",
       "      <td>265</td>\n",
       "      <td>do not let them make you believe that loving y...</td>\n",
       "      <td>[do, not, let, them, make, you, believe, that,...</td>\n",
       "      <td>[do, not, let, them, make, you, believe, that,...</td>\n",
       "    </tr>\n",
       "    <tr>\n",
       "      <th>9</th>\n",
       "      <td>0</td>\n",
       "      <td>Almighty. We ask You to purify our hearts. Hel...</td>\n",
       "      <td>270</td>\n",
       "      <td>almighty we ask you to purify our hearts help ...</td>\n",
       "      <td>[almighty, we, ask, you, to, purify, our, hear...</td>\n",
       "      <td>[almighty, we, ask, you, to, purify, our, hear...</td>\n",
       "    </tr>\n",
       "  </tbody>\n",
       "</table>\n",
       "</div>"
      ],
      "text/plain": [
       "   username                                               text  len  \\\n",
       "0         0  Not everyone will be happy for you. Stop shari...  286   \n",
       "1         0  Making a choice is not easy at times. Always s...  267   \n",
       "2         0  Well done #Pakistan \\nGreat Win #PakistanCrick...   60   \n",
       "3         0  Your good deeds won’t guarantee you Paradise. ...  282   \n",
       "4         0  Don’t fall for Satan’s plot. He does not want ...  279   \n",
       "5         0  We tend to think the grass is always greener o...  276   \n",
       "6         0  We are in a sad state today. We let society di...  278   \n",
       "7         0  Knowing what not to say is equally important. ...  292   \n",
       "8         0  Don’t let them make you believe that loving yo...  265   \n",
       "9         0  Almighty. We ask You to purify our hearts. Hel...  270   \n",
       "\n",
       "                                      clean_sentence  \\\n",
       "0  not everyone will be happy for you stop sharin...   \n",
       "1  making a choice is not easy at times always se...   \n",
       "2  well done pakistan g areat win pakistancricket...   \n",
       "3  your good deeds wo not guara notee you paradis...   \n",
       "4  do not fall for satans plot he does not wa not...   \n",
       "5  we tend to think the grass is always g areener...   \n",
       "6  we a are in a sad state today we let society d...   \n",
       "7  knowing what not to say is equally importa not...   \n",
       "8  do not let them make you believe that loving y...   \n",
       "9  almighty we ask you to purify our hearts help ...   \n",
       "\n",
       "                                      token_sentence  \\\n",
       "0  [not, everyone, will, be, happy, for, you, sto...   \n",
       "1  [making, a, choice, is, not, easy, at, time, a...   \n",
       "2  [well, done, pakistan, g, areat, win, pakistan...   \n",
       "3  [your, good, deed, wo, not, guara, notee, you,...   \n",
       "4  [do, not, fall, for, satan, plot, he, doe, not...   \n",
       "5  [we, tend, to, think, the, grass, is, always, ...   \n",
       "6  [we, a, are, in, a, sad, state, today, we, let...   \n",
       "7  [knowing, what, not, to, say, is, equally, imp...   \n",
       "8  [do, not, let, them, make, you, believe, that,...   \n",
       "9  [almighty, we, ask, you, to, purify, our, hear...   \n",
       "\n",
       "                                    tok_lem_sentence  \n",
       "0  [not, everyone, will, be, happy, for, you, sto...  \n",
       "1  [making, a, choice, is, not, easy, at, time, a...  \n",
       "2  [well, done, pakistan, g, areat, win, pakistan...  \n",
       "3  [your, good, deed, wo, not, guara, notee, you,...  \n",
       "4  [do, not, fall, for, satan, plot, he, doe, not...  \n",
       "5  [we, tend, to, think, the, grass, is, always, ...  \n",
       "6  [we, a, are, in, a, sad, state, today, we, let...  \n",
       "7  [knowing, what, not, to, say, is, equally, imp...  \n",
       "8  [do, not, let, them, make, you, believe, that,...  \n",
       "9  [almighty, we, ask, you, to, purify, our, hear...  "
      ]
     },
     "execution_count": 13,
     "metadata": {},
     "output_type": "execute_result"
    }
   ],
   "source": [
    "df.head(10)"
   ]
  },
  {
   "cell_type": "code",
   "execution_count": 14,
   "id": "6dcfe518",
   "metadata": {
    "scrolled": true
   },
   "outputs": [
    {
     "name": "stdout",
     "output_type": "stream",
     "text": [
      "<class 'pandas.core.frame.DataFrame'>\n",
      "RangeIndex: 1799 entries, 0 to 1798\n",
      "Data columns (total 9 columns):\n",
      " #   Column                    Non-Null Count  Dtype \n",
      "---  ------                    --------------  ----- \n",
      " 0   username                  1799 non-null   int64 \n",
      " 1   text                      1799 non-null   object\n",
      " 2   len                       1799 non-null   int64 \n",
      " 3   clean_sentence            1799 non-null   object\n",
      " 4   token_sentence            1799 non-null   object\n",
      " 5   tok_lem_sentence          1799 non-null   object\n",
      " 6   cs_len                    1799 non-null   int64 \n",
      " 7   word counts               1799 non-null   int64 \n",
      " 8   word count after tok_lem  1799 non-null   int64 \n",
      "dtypes: int64(5), object(4)\n",
      "memory usage: 126.6+ KB\n"
     ]
    }
   ],
   "source": [
    "df['cs_len'] = df['clean_sentence'].str.len()\n",
    "df['word counts'] = df['token_sentence'].str.len()\n",
    "df['word count after tok_lem'] = df['tok_lem_sentence'].str.len()\n",
    "df.info()"
   ]
  },
  {
   "cell_type": "code",
   "execution_count": 15,
   "id": "78837c98",
   "metadata": {
    "scrolled": true
   },
   "outputs": [
    {
     "name": "stdout",
     "output_type": "stream",
     "text": [
      "<class 'pandas.core.frame.DataFrame'>\n",
      "RangeIndex: 1799 entries, 0 to 1798\n",
      "Data columns (total 9 columns):\n",
      " #   Column                    Non-Null Count  Dtype \n",
      "---  ------                    --------------  ----- \n",
      " 0   username                  1799 non-null   int64 \n",
      " 1   text                      1799 non-null   object\n",
      " 2   len                       1799 non-null   int64 \n",
      " 3   clean_sentence            1799 non-null   object\n",
      " 4   token_sentence            1799 non-null   object\n",
      " 5   tok_lem_sentence          1799 non-null   object\n",
      " 6   cs_len                    1799 non-null   int64 \n",
      " 7   word counts               1799 non-null   int64 \n",
      " 8   word count after tok_lem  1799 non-null   int64 \n",
      "dtypes: int64(5), object(4)\n",
      "memory usage: 126.6+ KB\n"
     ]
    }
   ],
   "source": [
    "df.info()"
   ]
  },
  {
   "cell_type": "code",
   "execution_count": 16,
   "id": "01bddfd9",
   "metadata": {},
   "outputs": [],
   "source": [
    "#drop useless rows\n",
    "\n",
    "def drop_rows(df):\n",
    "    #drop rows with empty list\n",
    "    df.drop(df.loc[df['clean_sentence']== ' '].index, inplace=True)\n",
    "    #drop rows with less or equal to five word\n",
    "    df.drop(df.loc[df['word counts'] <= 5].index, inplace=True)\n",
    "    return df"
   ]
  },
  {
   "cell_type": "code",
   "execution_count": 17,
   "id": "6c934ef5",
   "metadata": {
    "scrolled": false
   },
   "outputs": [
    {
     "data": {
      "text/html": [
       "<div>\n",
       "<style scoped>\n",
       "    .dataframe tbody tr th:only-of-type {\n",
       "        vertical-align: middle;\n",
       "    }\n",
       "\n",
       "    .dataframe tbody tr th {\n",
       "        vertical-align: top;\n",
       "    }\n",
       "\n",
       "    .dataframe thead th {\n",
       "        text-align: right;\n",
       "    }\n",
       "</style>\n",
       "<table border=\"1\" class=\"dataframe\">\n",
       "  <thead>\n",
       "    <tr style=\"text-align: right;\">\n",
       "      <th></th>\n",
       "      <th>username</th>\n",
       "      <th>text</th>\n",
       "      <th>len</th>\n",
       "      <th>clean_sentence</th>\n",
       "      <th>token_sentence</th>\n",
       "      <th>tok_lem_sentence</th>\n",
       "      <th>cs_len</th>\n",
       "      <th>word counts</th>\n",
       "      <th>word count after tok_lem</th>\n",
       "    </tr>\n",
       "  </thead>\n",
       "  <tbody>\n",
       "    <tr>\n",
       "      <th>0</th>\n",
       "      <td>0</td>\n",
       "      <td>Not everyone will be happy for you. Stop shari...</td>\n",
       "      <td>286</td>\n",
       "      <td>not everyone will be happy for you stop sharin...</td>\n",
       "      <td>[not, everyone, will, be, happy, for, you, sto...</td>\n",
       "      <td>[not, everyone, will, be, happy, for, you, sto...</td>\n",
       "      <td>284</td>\n",
       "      <td>55</td>\n",
       "      <td>55</td>\n",
       "    </tr>\n",
       "    <tr>\n",
       "      <th>1</th>\n",
       "      <td>0</td>\n",
       "      <td>Making a choice is not easy at times. Always s...</td>\n",
       "      <td>267</td>\n",
       "      <td>making a choice is not easy at times always se...</td>\n",
       "      <td>[making, a, choice, is, not, easy, at, time, a...</td>\n",
       "      <td>[making, a, choice, is, not, easy, at, time, a...</td>\n",
       "      <td>261</td>\n",
       "      <td>50</td>\n",
       "      <td>50</td>\n",
       "    </tr>\n",
       "    <tr>\n",
       "      <th>2</th>\n",
       "      <td>0</td>\n",
       "      <td>Well done #Pakistan \\nGreat Win #PakistanCrick...</td>\n",
       "      <td>60</td>\n",
       "      <td>well done pakistan g areat win pakistancricket...</td>\n",
       "      <td>[well, done, pakistan, g, areat, win, pakistan...</td>\n",
       "      <td>[well, done, pakistan, g, areat, win, pakistan...</td>\n",
       "      <td>56</td>\n",
       "      <td>7</td>\n",
       "      <td>7</td>\n",
       "    </tr>\n",
       "    <tr>\n",
       "      <th>3</th>\n",
       "      <td>0</td>\n",
       "      <td>Your good deeds won’t guarantee you Paradise. ...</td>\n",
       "      <td>282</td>\n",
       "      <td>your good deeds wo not guara notee you paradis...</td>\n",
       "      <td>[your, good, deed, wo, not, guara, notee, you,...</td>\n",
       "      <td>[your, good, deed, wo, not, guara, notee, you,...</td>\n",
       "      <td>282</td>\n",
       "      <td>53</td>\n",
       "      <td>53</td>\n",
       "    </tr>\n",
       "    <tr>\n",
       "      <th>4</th>\n",
       "      <td>0</td>\n",
       "      <td>Don’t fall for Satan’s plot. He does not want ...</td>\n",
       "      <td>279</td>\n",
       "      <td>do not fall for satans plot he does not wa not...</td>\n",
       "      <td>[do, not, fall, for, satan, plot, he, doe, not...</td>\n",
       "      <td>[do, not, fall, for, satan, plot, he, doe, not...</td>\n",
       "      <td>284</td>\n",
       "      <td>63</td>\n",
       "      <td>63</td>\n",
       "    </tr>\n",
       "    <tr>\n",
       "      <th>...</th>\n",
       "      <td>...</td>\n",
       "      <td>...</td>\n",
       "      <td>...</td>\n",
       "      <td>...</td>\n",
       "      <td>...</td>\n",
       "      <td>...</td>\n",
       "      <td>...</td>\n",
       "      <td>...</td>\n",
       "      <td>...</td>\n",
       "    </tr>\n",
       "    <tr>\n",
       "      <th>1794</th>\n",
       "      <td>1</td>\n",
       "      <td>RT @nafrinaM: Who does God love?\\n\\n📓 You are ...</td>\n",
       "      <td>88</td>\n",
       "      <td>who does god love you a are loved by wahid</td>\n",
       "      <td>[who, doe, god, love, you, a, are, loved, by, ...</td>\n",
       "      <td>[who, doe, god, love, you, a, are, loved, by, ...</td>\n",
       "      <td>45</td>\n",
       "      <td>10</td>\n",
       "      <td>10</td>\n",
       "    </tr>\n",
       "    <tr>\n",
       "      <th>1795</th>\n",
       "      <td>1</td>\n",
       "      <td>RT @snflwrlover_: ✨ - The Art of Letting God, ...</td>\n",
       "      <td>81</td>\n",
       "      <td>the art of letting god wahid</td>\n",
       "      <td>[the, art, of, letting, god, wahid]</td>\n",
       "      <td>[the, art, of, letting, god, wahid]</td>\n",
       "      <td>33</td>\n",
       "      <td>6</td>\n",
       "      <td>6</td>\n",
       "    </tr>\n",
       "    <tr>\n",
       "      <th>1796</th>\n",
       "      <td>1</td>\n",
       "      <td>New Episode brought to you by Houze of Telekun...</td>\n",
       "      <td>71</td>\n",
       "      <td>new episode brought to you by houze of telekung</td>\n",
       "      <td>[new, episode, brought, to, you, by, houze, of...</td>\n",
       "      <td>[new, episode, brought, to, you, by, houze, of...</td>\n",
       "      <td>48</td>\n",
       "      <td>9</td>\n",
       "      <td>9</td>\n",
       "    </tr>\n",
       "    <tr>\n",
       "      <th>1797</th>\n",
       "      <td>1</td>\n",
       "      <td>Peace be upon you,\\n\\nYou’re going to be just ...</td>\n",
       "      <td>52</td>\n",
       "      <td>peace be upon youyou are going to be just fine</td>\n",
       "      <td>[peace, be, upon, youyou, are, going, to, be, ...</td>\n",
       "      <td>[peace, be, upon, youyou, are, going, to, be, ...</td>\n",
       "      <td>46</td>\n",
       "      <td>10</td>\n",
       "      <td>10</td>\n",
       "    </tr>\n",
       "    <tr>\n",
       "      <th>1798</th>\n",
       "      <td>1</td>\n",
       "      <td>Always package a prayer with a plan, &amp;amp; a c...</td>\n",
       "      <td>284</td>\n",
       "      <td>always package a prayer with a plan   a commit...</td>\n",
       "      <td>[always, package, a, prayer, with, a, plan, a,...</td>\n",
       "      <td>[always, package, a, prayer, with, a, plan, a,...</td>\n",
       "      <td>271</td>\n",
       "      <td>45</td>\n",
       "      <td>45</td>\n",
       "    </tr>\n",
       "  </tbody>\n",
       "</table>\n",
       "<p>1553 rows × 9 columns</p>\n",
       "</div>"
      ],
      "text/plain": [
       "      username                                               text  len  \\\n",
       "0            0  Not everyone will be happy for you. Stop shari...  286   \n",
       "1            0  Making a choice is not easy at times. Always s...  267   \n",
       "2            0  Well done #Pakistan \\nGreat Win #PakistanCrick...   60   \n",
       "3            0  Your good deeds won’t guarantee you Paradise. ...  282   \n",
       "4            0  Don’t fall for Satan’s plot. He does not want ...  279   \n",
       "...        ...                                                ...  ...   \n",
       "1794         1  RT @nafrinaM: Who does God love?\\n\\n📓 You are ...   88   \n",
       "1795         1  RT @snflwrlover_: ✨ - The Art of Letting God, ...   81   \n",
       "1796         1  New Episode brought to you by Houze of Telekun...   71   \n",
       "1797         1  Peace be upon you,\\n\\nYou’re going to be just ...   52   \n",
       "1798         1  Always package a prayer with a plan, &amp; a c...  284   \n",
       "\n",
       "                                         clean_sentence  \\\n",
       "0     not everyone will be happy for you stop sharin...   \n",
       "1     making a choice is not easy at times always se...   \n",
       "2     well done pakistan g areat win pakistancricket...   \n",
       "3     your good deeds wo not guara notee you paradis...   \n",
       "4     do not fall for satans plot he does not wa not...   \n",
       "...                                                 ...   \n",
       "1794        who does god love you a are loved by wahid    \n",
       "1795                      the art of letting god wahid    \n",
       "1796   new episode brought to you by houze of telekung    \n",
       "1797     peace be upon youyou are going to be just fine   \n",
       "1798  always package a prayer with a plan   a commit...   \n",
       "\n",
       "                                         token_sentence  \\\n",
       "0     [not, everyone, will, be, happy, for, you, sto...   \n",
       "1     [making, a, choice, is, not, easy, at, time, a...   \n",
       "2     [well, done, pakistan, g, areat, win, pakistan...   \n",
       "3     [your, good, deed, wo, not, guara, notee, you,...   \n",
       "4     [do, not, fall, for, satan, plot, he, doe, not...   \n",
       "...                                                 ...   \n",
       "1794  [who, doe, god, love, you, a, are, loved, by, ...   \n",
       "1795                [the, art, of, letting, god, wahid]   \n",
       "1796  [new, episode, brought, to, you, by, houze, of...   \n",
       "1797  [peace, be, upon, youyou, are, going, to, be, ...   \n",
       "1798  [always, package, a, prayer, with, a, plan, a,...   \n",
       "\n",
       "                                       tok_lem_sentence  cs_len  word counts  \\\n",
       "0     [not, everyone, will, be, happy, for, you, sto...     284           55   \n",
       "1     [making, a, choice, is, not, easy, at, time, a...     261           50   \n",
       "2     [well, done, pakistan, g, areat, win, pakistan...      56            7   \n",
       "3     [your, good, deed, wo, not, guara, notee, you,...     282           53   \n",
       "4     [do, not, fall, for, satan, plot, he, doe, not...     284           63   \n",
       "...                                                 ...     ...          ...   \n",
       "1794  [who, doe, god, love, you, a, are, loved, by, ...      45           10   \n",
       "1795                [the, art, of, letting, god, wahid]      33            6   \n",
       "1796  [new, episode, brought, to, you, by, houze, of...      48            9   \n",
       "1797  [peace, be, upon, youyou, are, going, to, be, ...      46           10   \n",
       "1798  [always, package, a, prayer, with, a, plan, a,...     271           45   \n",
       "\n",
       "      word count after tok_lem  \n",
       "0                           55  \n",
       "1                           50  \n",
       "2                            7  \n",
       "3                           53  \n",
       "4                           63  \n",
       "...                        ...  \n",
       "1794                        10  \n",
       "1795                         6  \n",
       "1796                         9  \n",
       "1797                        10  \n",
       "1798                        45  \n",
       "\n",
       "[1553 rows x 9 columns]"
      ]
     },
     "execution_count": 17,
     "metadata": {},
     "output_type": "execute_result"
    }
   ],
   "source": [
    "drop_rows(df)"
   ]
  },
  {
   "cell_type": "markdown",
   "id": "bcc3b015",
   "metadata": {},
   "source": [
    "# Pre-Processing and EDA"
   ]
  },
  {
   "cell_type": "code",
   "execution_count": 18,
   "id": "ea618fda",
   "metadata": {},
   "outputs": [
    {
     "name": "stdout",
     "output_type": "stream",
     "text": [
      "(896, 9)\n",
      "(657, 9)\n"
     ]
    }
   ],
   "source": [
    "# seperate the two subreddits for individual visualisations\n",
    "muftimenk = df[df['username'] == 0]\n",
    "print(muftimenk.shape)\n",
    "mizi_wahid = df[df['username'] == 1]\n",
    "print(mizi_wahid.shape)"
   ]
  },
  {
   "cell_type": "code",
   "execution_count": 19,
   "id": "6eddd886",
   "metadata": {},
   "outputs": [
    {
     "name": "stdout",
     "output_type": "stream",
     "text": [
      "The average length per tweet: 269.2533482142857\n",
      "The longest tweet length: 293\n",
      "The average word count per tweet: 52.1328125\n",
      "The maximum word count per tweet: 64\n"
     ]
    }
   ],
   "source": [
    "# Average length for muftimenk's posts\n",
    "print('The average length per tweet:', muftimenk['cs_len'].mean())\n",
    "print('The longest tweet length:', muftimenk['cs_len'].max())\n",
    "print('The average word count per tweet:', muftimenk['word counts'].mean())\n",
    "print('The maximum word count per tweet:', muftimenk['word counts'].max())"
   ]
  },
  {
   "cell_type": "code",
   "execution_count": 20,
   "id": "26e992d4",
   "metadata": {},
   "outputs": [
    {
     "data": {
      "image/png": "[encoded data removed]",
      "text/plain": [
       "<Figure size 432x288 with 1 Axes>"
      ]
     },
     "metadata": {
      "needs_background": "light"
     },
     "output_type": "display_data"
    }
   ],
   "source": [
    "plt.hist(muftimenk['word counts'])\n",
    "plt.title(\"Word Count for Mufti Menk's tweets\")\n",
    "plt.xlabel('Word Count')\n",
    "plt.ylabel('Post Count');"
   ]
  },
  {
   "cell_type": "code",
   "execution_count": 21,
   "id": "c2ed29b2",
   "metadata": {},
   "outputs": [
    {
     "name": "stdout",
     "output_type": "stream",
     "text": [
      "The average length per tweet: 196.03500761035008\n",
      "The longest tweet length: 290\n",
      "The average word count per tweet: 36.981735159817354\n",
      "The maximum word count per tweet: 63\n"
     ]
    }
   ],
   "source": [
    "# Average length for serious posts\n",
    "print('The average length per tweet:', mizi_wahid['cs_len'].mean())\n",
    "print('The longest tweet length:', mizi_wahid['cs_len'].max())\n",
    "print('The average word count per tweet:', mizi_wahid['word counts'].mean())\n",
    "print('The maximum word count per tweet:', mizi_wahid['word counts'].max())"
   ]
  },
  {
   "cell_type": "code",
   "execution_count": 22,
   "id": "b19ffcca",
   "metadata": {
    "scrolled": true
   },
   "outputs": [
    {
     "data": {
      "image/png": "[encoded data removed]",
      "text/plain": [
       "<Figure size 432x288 with 1 Axes>"
      ]
     },
     "metadata": {
      "needs_background": "light"
     },
     "output_type": "display_data"
    }
   ],
   "source": [
    "plt.hist(mizi_wahid['word counts'])\n",
    "plt.title(\"Word Counts for Mizi Wahid's tweets\")\n",
    "plt.xlabel('Word Count')\n",
    "plt.ylabel('Post Count');"
   ]
  },
  {
   "cell_type": "code",
   "execution_count": 64,
   "id": "13901249",
   "metadata": {},
   "outputs": [],
   "source": [
    "# imports\n",
    "from sklearn.linear_model import LogisticRegression\n",
    "from sklearn.model_selection import train_test_split, GridSearchCV, cross_val_score\n",
    "from sklearn.pipeline import Pipeline\n",
    "from sklearn.naive_bayes import MultinomialNB\n",
    "from sklearn.metrics import (\n",
    "    confusion_matrix, plot_confusion_matrix, accuracy_score, plot_roc_curve, roc_auc_score, \n",
    "    precision_score, recall_score, f1_score\n",
    "                                )\n",
    "from sklearn.ensemble import RandomForestClassifier\n",
    "from sklearn.feature_extraction.text import CountVectorizer, TfidfVectorizer\n",
    "from sklearn.feature_extraction import text "
   ]
  },
  {
   "cell_type": "code",
   "execution_count": 24,
   "id": "bfada14c",
   "metadata": {},
   "outputs": [],
   "source": [
    "X = df['clean_sentence']\n",
    "y = df['username']"
   ]
  },
  {
   "cell_type": "code",
   "execution_count": 25,
   "id": "e3dc0487",
   "metadata": {},
   "outputs": [
    {
     "data": {
      "text/plain": [
       "(1553,)"
      ]
     },
     "execution_count": 25,
     "metadata": {},
     "output_type": "execute_result"
    }
   ],
   "source": [
    "X.shape"
   ]
  },
  {
   "cell_type": "code",
   "execution_count": 26,
   "id": "a157b4db",
   "metadata": {
    "scrolled": true
   },
   "outputs": [
    {
     "data": {
      "text/plain": [
       "0    0.576948\n",
       "1    0.423052\n",
       "Name: username, dtype: float64"
      ]
     },
     "execution_count": 26,
     "metadata": {},
     "output_type": "execute_result"
    }
   ],
   "source": [
    "# Check for imbalanced data \n",
    "y.value_counts(normalize = True)"
   ]
  },
  {
   "cell_type": "code",
   "execution_count": 27,
   "id": "b7dcbe79",
   "metadata": {},
   "outputs": [],
   "source": [
    "# Split the data into the training and testing sets.\n",
    "X_train, X_test, y_train, y_test = train_test_split(X,\n",
    "                                                    y,\n",
    "                                                    test_size=0.3,\n",
    "                                                    random_state=42)"
   ]
  },
  {
   "cell_type": "code",
   "execution_count": 28,
   "id": "8be04848",
   "metadata": {},
   "outputs": [],
   "source": [
    "cvec = CountVectorizer(stop_words = STOPWORDS, max_df = 0.5, min_df=0.1)"
   ]
  },
  {
   "cell_type": "code",
   "execution_count": 29,
   "id": "f4627083",
   "metadata": {
    "scrolled": false
   },
   "outputs": [
    {
     "data": {
      "image/png": "[encoded data removed]",
      "text/plain": [
       "<Figure size 720x720 with 1 Axes>"
      ]
     },
     "metadata": {
      "needs_background": "light"
     },
     "output_type": "display_data"
    }
   ],
   "source": [
    "# convert text data to dataframe\n",
    "text_mm = pd.DataFrame(cvec.fit_transform(muftimenk['clean_sentence']).todense(), \n",
    "                          columns=cvec.get_feature_names())\n",
    "\n",
    "# plot top occuring words\n",
    "plt.figure(figsize=(10,10))\n",
    "text_mm.sum().sort_values(ascending=False).head(10).plot(kind='barh')\n",
    "plt.yticks(size=10)\n",
    "plt.title(\"Top Occuring Words in Mufti Menk's Twitter\");"
   ]
  },
  {
   "cell_type": "code",
   "execution_count": 30,
   "id": "b3dc83f8",
   "metadata": {},
   "outputs": [
    {
     "data": {
      "image/png": "[encoded data removed]",
      "text/plain": [
       "<Figure size 720x720 with 1 Axes>"
      ]
     },
     "metadata": {
      "needs_background": "light"
     },
     "output_type": "display_data"
    }
   ],
   "source": [
    "# convert text data to dataframe\n",
    "text_mw = pd.DataFrame(cvec.fit_transform(mizi_wahid['clean_sentence']).todense(), \n",
    "                          columns=cvec.get_feature_names())\n",
    "\n",
    "# plot top occuring words\n",
    "plt.figure(figsize=(10,10))\n",
    "text_mw.sum().sort_values(ascending=False).plot(kind='barh')\n",
    "plt.yticks(size=10)\n",
    "plt.title(\"Top Occuring Words in Mizi Wahid's Twitter\");"
   ]
  },
  {
   "cell_type": "code",
   "execution_count": 31,
   "id": "dccb0d16",
   "metadata": {},
   "outputs": [
    {
     "data": {
      "image/png": "[encoded data removed]",
      "text/plain": [
       "<Figure size 720x720 with 1 Axes>"
      ]
     },
     "metadata": {
      "needs_background": "light"
     },
     "output_type": "display_data"
    }
   ],
   "source": [
    "# convert training data to dataframe\n",
    "X_train_df = pd.DataFrame(cvec.fit_transform(X_train).todense(), \n",
    "                          columns=cvec.get_feature_names())\n",
    "\n",
    "# plot top occuring words\n",
    "plt.figure(figsize=(10,10))\n",
    "X_train_df.sum().sort_values(ascending=False).head(10).plot(kind='barh')\n",
    "plt.yticks(size=10)\n",
    "plt.title('Top occuring words in Training Set');"
   ]
  },
  {
   "cell_type": "code",
   "execution_count": 32,
   "id": "f5aa5170",
   "metadata": {
    "scrolled": true
   },
   "outputs": [
    {
     "data": {
      "image/png": "[encoded data removed]",
      "text/plain": [
       "<Figure size 720x720 with 1 Axes>"
      ]
     },
     "metadata": {
      "needs_background": "light"
     },
     "output_type": "display_data"
    }
   ],
   "source": [
    "# convert test data to dataframe\n",
    "X_test_df = pd.DataFrame(cvec.fit_transform(X_test).todense(), \n",
    "                          columns=cvec.get_feature_names())\n",
    "\n",
    "# plot top occuring words\n",
    "plt.figure(figsize=(10,10))\n",
    "X_test_df.sum().sort_values(ascending=False).head(10).plot(kind='barh')\n",
    "plt.yticks(size=10)\n",
    "plt.title('Top occuring words in Test Set');"
   ]
  },
  {
   "cell_type": "markdown",
   "id": "3510a1b2",
   "metadata": {},
   "source": [
    "# Modelling"
   ]
  },
  {
   "cell_type": "code",
   "execution_count": 33,
   "id": "bed77566",
   "metadata": {},
   "outputs": [],
   "source": [
    "# 1st Model\n",
    "pipe_rf = Pipeline([\n",
    "    ('cvec', CountVectorizer(stop_words=STOPWORDS)),\n",
    "    ('rf', RandomForestClassifier(random_state=42))\n",
    "])"
   ]
  },
  {
   "cell_type": "code",
   "execution_count": 34,
   "id": "1f2f07af",
   "metadata": {},
   "outputs": [],
   "source": [
    "rf_params = {\n",
    "    'cvec__max_features': [170, 180, 190, 200],    \n",
    "    'cvec__ngram_range': [(1,1), (1,2)],\n",
    "    'cvec__min_df': [0.05, 0.1],\n",
    "    'cvec__max_df': [.75, .8],\n",
    "    'rf__max_depth': [1, 2]\n",
    "}"
   ]
  },
  {
   "cell_type": "code",
   "execution_count": 35,
   "id": "5c0d21fd",
   "metadata": {},
   "outputs": [],
   "source": [
    "gs_rf = GridSearchCV(pipe_rf,\n",
    "                  param_grid=rf_params, \n",
    "                  cv=5)"
   ]
  },
  {
   "cell_type": "code",
   "execution_count": 36,
   "id": "df72f184",
   "metadata": {
    "scrolled": false
   },
   "outputs": [],
   "source": [
    "# Fit GridSearch to training data.\n",
    "rf_fit = gs_rf.fit(X_train, y_train)"
   ]
  },
  {
   "cell_type": "code",
   "execution_count": 37,
   "id": "94b577ff",
   "metadata": {},
   "outputs": [
    {
     "name": "stdout",
     "output_type": "stream",
     "text": [
      "0.831606984314886\n",
      "{'cvec__max_df': 0.75, 'cvec__max_features': 170, 'cvec__min_df': 0.1, 'cvec__ngram_range': (1, 1), 'rf__max_depth': 2}\n"
     ]
    }
   ],
   "source": [
    "# What's the best score and the best parameters?\n",
    "print(gs_rf.best_score_)\n",
    "print(gs_rf.best_params_)"
   ]
  },
  {
   "cell_type": "code",
   "execution_count": 38,
   "id": "96e89e87",
   "metadata": {},
   "outputs": [],
   "source": [
    "# Get predictions\n",
    "pred_rf = gs_rf.predict(X_train)\n",
    "preds_rf = gs_rf.predict(X_test)\n",
    "\n",
    "# Save confusion matrix values\n",
    "tn, fp, fn, tp = confusion_matrix(y_test, preds_rf).ravel()"
   ]
  },
  {
   "cell_type": "code",
   "execution_count": 39,
   "id": "d6514d11",
   "metadata": {},
   "outputs": [
    {
     "data": {
      "image/png": "[encoded data removed]",
      "text/plain": [
       "<Figure size 432x288 with 2 Axes>"
      ]
     },
     "metadata": {
      "needs_background": "light"
     },
     "output_type": "display_data"
    }
   ],
   "source": [
    "# View confusion matrix\n",
    "\n",
    "plot_confusion_matrix(gs_rf, X_test, y_test, cmap='Blues', values_format='d');"
   ]
  },
  {
   "cell_type": "code",
   "execution_count": 40,
   "id": "683f54eb",
   "metadata": {},
   "outputs": [
    {
     "name": "stdout",
     "output_type": "stream",
     "text": [
      "Precision: 0.801\n",
      "Recall: 0.806\n",
      "F1-Score: 0.804\n"
     ]
    }
   ],
   "source": [
    "precision = precision_score(y_train, pred_rf, average='binary') #TruePositives / (TruePositives + FalsePositives)\n",
    "print('Precision: %.3f' % precision)\n",
    "recall = recall_score(y_train, pred_rf, average='binary') #TruePositives / (TruePositives + FalseNegatives)\n",
    "print('Recall: %.3f' % recall)\n",
    "score = f1_score(y_train, pred_rf, average='binary') #(2 * Precision * Recall) / (Precision + Recall)\n",
    "print('F1-Score: %.3f' % score)\n",
    "#Precision: Appropriate when minimizing false positives is the focus.\n",
    "#Recall: Appropriate when minimizing false negatives is the focus."
   ]
  },
  {
   "cell_type": "code",
   "execution_count": 41,
   "id": "7088f171",
   "metadata": {},
   "outputs": [
    {
     "name": "stdout",
     "output_type": "stream",
     "text": [
      "0.8371665133394665\n",
      "0.8283261802575107\n"
     ]
    }
   ],
   "source": [
    "# Calculate Accuracy and check overfitting\n",
    "print(accuracy_score(y_train, pred_rf))\n",
    "print(accuracy_score(y_test, preds_rf))"
   ]
  },
  {
   "cell_type": "code",
   "execution_count": 42,
   "id": "aace4361",
   "metadata": {},
   "outputs": [
    {
     "data": {
      "image/png": "[encoded data removed]",
      "text/plain": [
       "<Figure size 432x288 with 1 Axes>"
      ]
     },
     "metadata": {
      "needs_background": "light"
     },
     "output_type": "display_data"
    }
   ],
   "source": [
    "# plot roc for rf\n",
    "plot_roc_curve(gs_rf, X_train, y_train)\n",
    "plt.title('Random Forest Classifier Model Train')\n",
    "plt.plot([0, 1], [0, 1],\n",
    "         label='baseline', linestyle='--')\n",
    "plt.legend();"
   ]
  },
  {
   "cell_type": "code",
   "execution_count": 43,
   "id": "2bc95fe8",
   "metadata": {},
   "outputs": [
    {
     "data": {
      "image/png": "[encoded data removed]",
      "text/plain": [
       "<Figure size 432x288 with 1 Axes>"
      ]
     },
     "metadata": {
      "needs_background": "light"
     },
     "output_type": "display_data"
    }
   ],
   "source": [
    "plot_roc_curve(gs_rf, X_test, y_test)\n",
    "plt.title('Random Forest Classifier Model Test set')\n",
    "plt.plot([0, 1], [0, 1],\n",
    "         label='baseline', linestyle='--')\n",
    "plt.legend();"
   ]
  },
  {
   "cell_type": "code",
   "execution_count": 44,
   "id": "d6f70cd7",
   "metadata": {},
   "outputs": [],
   "source": [
    "# 2nd Model\n",
    "pipe_nb = Pipeline([\n",
    "    ('cvec', CountVectorizer(stop_words=STOPWORDS)),\n",
    "    ('nb', MultinomialNB())\n",
    "])"
   ]
  },
  {
   "cell_type": "code",
   "execution_count": 45,
   "id": "d607ff8a",
   "metadata": {},
   "outputs": [],
   "source": [
    "nb_params = {\n",
    "    'cvec__max_features': [170, 180, 190, 200],   \n",
    "    'cvec__ngram_range': [(1,1), (1,2)],\n",
    "    'cvec__min_df': [.05, .1],\n",
    "    'cvec__max_df': [.75, .8],\n",
    "    'nb__alpha': [.1, .2, .3, .4]\n",
    "}"
   ]
  },
  {
   "cell_type": "code",
   "execution_count": 46,
   "id": "cc52c7f0",
   "metadata": {},
   "outputs": [],
   "source": [
    "gs_nb = GridSearchCV(pipe_nb,\n",
    "                  param_grid=nb_params, \n",
    "                  cv=5) "
   ]
  },
  {
   "cell_type": "code",
   "execution_count": 47,
   "id": "4724f62a",
   "metadata": {},
   "outputs": [
    {
     "name": "stdout",
     "output_type": "stream",
     "text": [
      "0.7322665201031582\n",
      "{'cvec__max_df': 0.75, 'cvec__max_features': 170, 'cvec__min_df': 0.05, 'cvec__ngram_range': (1, 1), 'nb__alpha': 0.3}\n"
     ]
    }
   ],
   "source": [
    "# Fit GridSearch to training data.\n",
    "gs_nb.fit(X_train, y_train)\n",
    "\n",
    "# What's the best score and the best parameters?\n",
    "print(gs_nb.best_score_)\n",
    "print(gs_nb.best_params_)"
   ]
  },
  {
   "cell_type": "code",
   "execution_count": 48,
   "id": "28e98950",
   "metadata": {},
   "outputs": [],
   "source": [
    "# Get predictions\n",
    "pred_nb = gs_nb.predict(X_train)\n",
    "preds_nb = gs_nb.predict(X_test)\n",
    "\n",
    "# Save confusion matrix values\n",
    "tn, fp, fn, tp = confusion_matrix(y_test, preds_nb).ravel()"
   ]
  },
  {
   "cell_type": "code",
   "execution_count": 49,
   "id": "afb375b3",
   "metadata": {},
   "outputs": [
    {
     "data": {
      "image/png": "[encoded data removed]",
      "text/plain": [
       "<Figure size 432x288 with 2 Axes>"
      ]
     },
     "metadata": {
      "needs_background": "light"
     },
     "output_type": "display_data"
    }
   ],
   "source": [
    "# View confusion matrix\n",
    "\n",
    "plot_confusion_matrix(gs_nb, X_test, y_test, cmap='Blues', values_format='d');"
   ]
  },
  {
   "cell_type": "code",
   "execution_count": 50,
   "id": "77701408",
   "metadata": {},
   "outputs": [
    {
     "name": "stdout",
     "output_type": "stream",
     "text": [
      "Precision: 0.780\n",
      "Recall: 0.584\n",
      "F1-Score: 0.668\n"
     ]
    }
   ],
   "source": [
    "precision = precision_score(y_train, pred_nb, average='binary') #TruePositives / (TruePositives + FalsePositives)\n",
    "print('Precision: %.3f' % precision)\n",
    "recall = recall_score(y_train, pred_nb, average='binary') #TruePositives / (TruePositives + FalseNegatives)\n",
    "print('Recall: %.3f' % recall)\n",
    "score = f1_score(y_train, pred_nb, average='binary') #(2 * Precision * Recall) / (Precision + Recall)\n",
    "print('F1-Score: %.3f' % score)\n",
    "#Precision: Appropriate when minimizing false positives is the focus.\n",
    "#Recall: Appropriate when minimizing false negatives is the focus."
   ]
  },
  {
   "cell_type": "code",
   "execution_count": 51,
   "id": "acf98620",
   "metadata": {},
   "outputs": [
    {
     "name": "stdout",
     "output_type": "stream",
     "text": [
      "0.7598896044158233\n",
      "0.6866952789699571\n"
     ]
    }
   ],
   "source": [
    "# Calculate Accuracy and check for overfitting\n",
    "print(accuracy_score(y_train, pred_nb))\n",
    "print(accuracy_score(y_test, preds_nb))"
   ]
  },
  {
   "cell_type": "code",
   "execution_count": 52,
   "id": "6af57d61",
   "metadata": {
    "scrolled": true
   },
   "outputs": [
    {
     "data": {
      "image/png": "[encoded data removed]",
      "text/plain": [
       "<Figure size 432x288 with 1 Axes>"
      ]
     },
     "metadata": {
      "needs_background": "light"
     },
     "output_type": "display_data"
    }
   ],
   "source": [
    "plot_roc_curve(gs_nb, X_train, y_train)\n",
    "plt.title('Multinomial NB Model Train set')\n",
    "plt.plot([0, 1], [0, 1],\n",
    "         label='baseline', linestyle='--')\n",
    "plt.legend();"
   ]
  },
  {
   "cell_type": "code",
   "execution_count": 53,
   "id": "828ba3a2",
   "metadata": {},
   "outputs": [
    {
     "data": {
      "image/png": "[encoded data removed]",
      "text/plain": [
       "<Figure size 432x288 with 1 Axes>"
      ]
     },
     "metadata": {
      "needs_background": "light"
     },
     "output_type": "display_data"
    }
   ],
   "source": [
    "plot_roc_curve(gs_nb, X_test, y_test)\n",
    "plt.title('Multinomial NB Model Test set')\n",
    "plt.plot([0, 1], [0, 1],\n",
    "         label='baseline', linestyle='--')\n",
    "plt.legend();"
   ]
  },
  {
   "cell_type": "code",
   "execution_count": 57,
   "id": "dd929e2f",
   "metadata": {},
   "outputs": [],
   "source": [
    "# instantiating a count vectorizer for NLP\n",
    "cvec = CountVectorizer(max_features=5_000, stop_words=STOPWORDS, ngram_range=(1,2))\n",
    "# instantiating a TF-DIF vectorizer for NLP\n",
    "tvec = TfidfVectorizer(max_features=5_000, stop_words=STOPWORDS, ngram_range=(1,2))"
   ]
  },
  {
   "cell_type": "code",
   "execution_count": 58,
   "id": "8550ed14",
   "metadata": {},
   "outputs": [],
   "source": [
    "\n",
    "# fitting and transforming the training data to the count vectorizer\n",
    "X_train_cv = cvec.fit_transform(X_train)\n",
    "# transforming the test data to the count vectorizer\n",
    "X_test_cv = cvec.transform(X_test)\n",
    "# fitting and transforming the training data to the TF-DIF vectorizer\n",
    "X_train_tv = tvec.fit_transform(X_train)\n",
    "# transforming the test data to the count vectorizer\n",
    "X_test_tv = tvec.transform(X_test)"
   ]
  },
  {
   "cell_type": "code",
   "execution_count": 59,
   "id": "b5114cc0",
   "metadata": {},
   "outputs": [
    {
     "data": {
      "text/html": [
       "<div>\n",
       "<style scoped>\n",
       "    .dataframe tbody tr th:only-of-type {\n",
       "        vertical-align: middle;\n",
       "    }\n",
       "\n",
       "    .dataframe tbody tr th {\n",
       "        vertical-align: top;\n",
       "    }\n",
       "\n",
       "    .dataframe thead th {\n",
       "        text-align: right;\n",
       "    }\n",
       "</style>\n",
       "<table border=\"1\" class=\"dataframe\">\n",
       "  <thead>\n",
       "    <tr style=\"text-align: right;\">\n",
       "      <th></th>\n",
       "      <th>10</th>\n",
       "      <th>100</th>\n",
       "      <th>1dayill</th>\n",
       "      <th>1st</th>\n",
       "      <th>20</th>\n",
       "      <th>2021</th>\n",
       "      <th>2nd</th>\n",
       "      <th>830</th>\n",
       "      <th>830 pm</th>\n",
       "      <th>930</th>\n",
       "      <th>...</th>\n",
       "      <th>youve done</th>\n",
       "      <th>youve got</th>\n",
       "      <th>youve living</th>\n",
       "      <th>youve lost</th>\n",
       "      <th>youve made</th>\n",
       "      <th>youve messed</th>\n",
       "      <th>youve never</th>\n",
       "      <th>youve wronged</th>\n",
       "      <th>youyou</th>\n",
       "      <th>zone</th>\n",
       "    </tr>\n",
       "  </thead>\n",
       "  <tbody>\n",
       "    <tr>\n",
       "      <th>0</th>\n",
       "      <td>0</td>\n",
       "      <td>0</td>\n",
       "      <td>0</td>\n",
       "      <td>0</td>\n",
       "      <td>0</td>\n",
       "      <td>0</td>\n",
       "      <td>0</td>\n",
       "      <td>0</td>\n",
       "      <td>0</td>\n",
       "      <td>0</td>\n",
       "      <td>...</td>\n",
       "      <td>0</td>\n",
       "      <td>0</td>\n",
       "      <td>0</td>\n",
       "      <td>0</td>\n",
       "      <td>1</td>\n",
       "      <td>0</td>\n",
       "      <td>0</td>\n",
       "      <td>0</td>\n",
       "      <td>0</td>\n",
       "      <td>0</td>\n",
       "    </tr>\n",
       "    <tr>\n",
       "      <th>1</th>\n",
       "      <td>0</td>\n",
       "      <td>0</td>\n",
       "      <td>0</td>\n",
       "      <td>0</td>\n",
       "      <td>0</td>\n",
       "      <td>0</td>\n",
       "      <td>0</td>\n",
       "      <td>0</td>\n",
       "      <td>0</td>\n",
       "      <td>0</td>\n",
       "      <td>...</td>\n",
       "      <td>0</td>\n",
       "      <td>0</td>\n",
       "      <td>0</td>\n",
       "      <td>0</td>\n",
       "      <td>0</td>\n",
       "      <td>0</td>\n",
       "      <td>0</td>\n",
       "      <td>0</td>\n",
       "      <td>0</td>\n",
       "      <td>0</td>\n",
       "    </tr>\n",
       "    <tr>\n",
       "      <th>2</th>\n",
       "      <td>0</td>\n",
       "      <td>0</td>\n",
       "      <td>0</td>\n",
       "      <td>0</td>\n",
       "      <td>0</td>\n",
       "      <td>0</td>\n",
       "      <td>0</td>\n",
       "      <td>0</td>\n",
       "      <td>0</td>\n",
       "      <td>0</td>\n",
       "      <td>...</td>\n",
       "      <td>0</td>\n",
       "      <td>0</td>\n",
       "      <td>0</td>\n",
       "      <td>0</td>\n",
       "      <td>0</td>\n",
       "      <td>0</td>\n",
       "      <td>0</td>\n",
       "      <td>0</td>\n",
       "      <td>0</td>\n",
       "      <td>0</td>\n",
       "    </tr>\n",
       "    <tr>\n",
       "      <th>3</th>\n",
       "      <td>1</td>\n",
       "      <td>0</td>\n",
       "      <td>0</td>\n",
       "      <td>0</td>\n",
       "      <td>0</td>\n",
       "      <td>0</td>\n",
       "      <td>0</td>\n",
       "      <td>0</td>\n",
       "      <td>0</td>\n",
       "      <td>0</td>\n",
       "      <td>...</td>\n",
       "      <td>0</td>\n",
       "      <td>0</td>\n",
       "      <td>0</td>\n",
       "      <td>0</td>\n",
       "      <td>0</td>\n",
       "      <td>0</td>\n",
       "      <td>0</td>\n",
       "      <td>0</td>\n",
       "      <td>0</td>\n",
       "      <td>0</td>\n",
       "    </tr>\n",
       "    <tr>\n",
       "      <th>4</th>\n",
       "      <td>0</td>\n",
       "      <td>0</td>\n",
       "      <td>0</td>\n",
       "      <td>0</td>\n",
       "      <td>0</td>\n",
       "      <td>0</td>\n",
       "      <td>0</td>\n",
       "      <td>0</td>\n",
       "      <td>0</td>\n",
       "      <td>0</td>\n",
       "      <td>...</td>\n",
       "      <td>0</td>\n",
       "      <td>0</td>\n",
       "      <td>0</td>\n",
       "      <td>0</td>\n",
       "      <td>0</td>\n",
       "      <td>0</td>\n",
       "      <td>0</td>\n",
       "      <td>0</td>\n",
       "      <td>0</td>\n",
       "      <td>0</td>\n",
       "    </tr>\n",
       "  </tbody>\n",
       "</table>\n",
       "<p>5 rows × 5000 columns</p>\n",
       "</div>"
      ],
      "text/plain": [
       "   10  100  1dayill  1st  20  2021  2nd  830  830 pm  930  ...  youve done  \\\n",
       "0   0    0        0    0   0     0    0    0       0    0  ...           0   \n",
       "1   0    0        0    0   0     0    0    0       0    0  ...           0   \n",
       "2   0    0        0    0   0     0    0    0       0    0  ...           0   \n",
       "3   1    0        0    0   0     0    0    0       0    0  ...           0   \n",
       "4   0    0        0    0   0     0    0    0       0    0  ...           0   \n",
       "\n",
       "   youve got  youve living  youve lost  youve made  youve messed  youve never  \\\n",
       "0          0             0           0           1             0            0   \n",
       "1          0             0           0           0             0            0   \n",
       "2          0             0           0           0             0            0   \n",
       "3          0             0           0           0             0            0   \n",
       "4          0             0           0           0             0            0   \n",
       "\n",
       "   youve wronged  youyou  zone  \n",
       "0              0       0     0  \n",
       "1              0       0     0  \n",
       "2              0       0     0  \n",
       "3              0       0     0  \n",
       "4              0       0     0  \n",
       "\n",
       "[5 rows x 5000 columns]"
      ]
     },
     "execution_count": 59,
     "metadata": {},
     "output_type": "execute_result"
    }
   ],
   "source": [
    "# storing the vectorized data in a dataframe for easy viewing and visualizations\n",
    "X_train_df = pd.DataFrame(X_train_cv.toarray(), columns=cvec.get_feature_names())\n",
    "# viewing the data\n",
    "X_train_df.head()"
   ]
  },
  {
   "cell_type": "code",
   "execution_count": 65,
   "id": "9eb8d125",
   "metadata": {},
   "outputs": [
    {
     "name": "stdout",
     "output_type": "stream",
     "text": [
      "Training Score: 0.6448864837441339\n",
      "Test Score: 0.6008693662777396\n"
     ]
    }
   ],
   "source": [
    "# instantiating a logistic regression model\n",
    "# from testing different options, the best result came from ridge regularization with an alpha of 5\n",
    "lr = LogisticRegression(C=.2)\n",
    "# fitting the TF-DIF vectorized training data to the model\n",
    "lr.fit(X_train_tv, y_train)\n",
    "# evaluating the model on the training data\n",
    "print(f'Training Score: {cross_val_score(lr, X_train_tv, y_train, cv=5).mean()}')\n",
    "# evaluating the model on the testing data\n",
    "print(f'Test Score: {cross_val_score(lr, X_test_tv, y_test, cv=5).mean()}')"
   ]
  },
  {
   "cell_type": "code",
   "execution_count": 69,
   "id": "8abdd92e",
   "metadata": {},
   "outputs": [
    {
     "data": {
      "image/png": "[encoded data removed]",
      "text/plain": [
       "<Figure size 1080x576 with 1 Axes>"
      ]
     },
     "metadata": {
      "needs_background": "light"
     },
     "output_type": "display_data"
    }
   ],
   "source": [
    "# creating a table of the bottom 15 coefficients and the words they belong to\n",
    "table = log_coefs.sort_values(1).head(15)\n",
    "# creating a figure in matplotlib and setting the size of the figure\n",
    "plt.figure(figsize=(15,8))\n",
    "# plotting a horizontal bar chart on the figure\n",
    "# 1 - the coefficients to make the most relevent words the largest bar\n",
    "plt.barh(table[0], (1 - table[1]))\n",
    "# the line of code below was taken from stackoverflow.com\n",
    "# flips the y axis so that the largest bars are on top\n",
    "plt.ylim(plt.ylim()[::-1])\n",
    "# setting the font of the yticks\n",
    "plt.yticks(fontsize=18)\n",
    "# labeling and formatting the x axis\n",
    "plt.xlabel('Weight', fontsize=20)\n",
    "# setting the font of the x ticks\n",
    "plt.xticks(fontsize=18)\n",
    "# setting and formatting the title\n",
    "plt.title('MuftiMenk: Best Predicting Words', fontsize=26);"
   ]
  },
  {
   "cell_type": "code",
   "execution_count": 68,
   "id": "be5ebf7d",
   "metadata": {},
   "outputs": [
    {
     "data": {
      "image/png": "[encoded data removed]",
      "text/plain": [
       "<Figure size 1080x576 with 1 Axes>"
      ]
     },
     "metadata": {
      "needs_background": "light"
     },
     "output_type": "display_data"
    }
   ],
   "source": [
    "# creating a list of all words being analyzed with their corresponding coefficients from logistic regression\n",
    "log_coefs = pd.DataFrame(list(zip(X_train_df, np.exp(lr.coef_[0]))))\n",
    "# creating a table of the top 15 coefficients and the words they belong to\n",
    "table = log_coefs.sort_values(1, ascending=False).head(15)\n",
    "# creating a figure in matplotlib and setting the size of the figure\n",
    "plt.figure(figsize=(15,8))\n",
    "# plotting a horizontal bar chart on the figure\n",
    "plt.barh(table[0], table[1])\n",
    "# labeling and formatting the y axis\n",
    "plt.xlabel('Weight', fontsize=20)\n",
    "# setting the font for the xticks\n",
    "plt.xticks(fontsize=18)\n",
    "# the line of code below was taken from stackoverflow.com\n",
    "# flips the y axis so that the largest bars are on top\n",
    "plt.ylim(plt.ylim()[::-1])\n",
    "# setting the font of the yticks\n",
    "plt.yticks(fontsize=18)\n",
    "# setting and formatting the title\n",
    "plt.title('MiziWahid: Best Predicting Words', fontsize=26);"
   ]
  },
  {
   "cell_type": "markdown",
   "id": "8dca8290",
   "metadata": {},
   "source": [
    "# Conclusion and Suggestions"
   ]
  },
  {
   "cell_type": "markdown",
   "id": "4e6a4b3b",
   "metadata": {},
   "source": [
    "### Summary:\n",
    "\n",
    "|Item               | Mufti Menk | Mizi Wahid |\n",
    "|-------------------|------------|------------|\n",
    "|Average length/tweet| 269.25    | 196.03     |\n",
    "|Longest tweet length| 293       | 290        |\n",
    "|Average word count/tweet| 52.13 | 36.98      |\n",
    "|Maximum word count/tweet| 64    | 63         |\n",
    "|Top 5 occuring words | us, life, people, keep, always | mo, us, may, god |\n",
    "| Top 5 best word predictors | Almighty, aremember, life, let, keep | god, wahid, love, new, Allah |\n",
    "\n",
    "- Random Forest AUC train score = 0.92, test score = 0.91 with an F1_score = 0.80 \n",
    "- Multinomial Naive Bayes AUC train score = 0.90, test score = 0.87 with an F1_score = 0.67 \n",
    "- In conclusion: Random Forest Classifier performed better than MultinomialNB.\n"
   ]
  },
  {
   "cell_type": "markdown",
   "id": "b523b770",
   "metadata": {},
   "source": [
    "#### Suggestions to improve:\n",
    "\n",
    "1. Additional words can be added into the list of stopwords, for example the words that has high frequency in both twitters.\n",
    "2. Further improve on lemmatizing and tokenizing\n",
    "3. Experiment with other types of algorithms and ensemble methods such as Boosting, Bagging etc."
   ]
  },
  {
   "cell_type": "code",
   "execution_count": null,
   "id": "e92e7475",
   "metadata": {},
   "outputs": [],
   "source": []
  }
 ],
 "metadata": {
  "kernelspec": {
   "display_name": "Python 3",
   "language": "python",
   "name": "python3"
  },
  "language_info": {
   "codemirror_mode": {
    "name": "ipython",
    "version": 3
   },
   "file_extension": ".py",
   "mimetype": "text/x-python",
   "name": "python",
   "nbconvert_exporter": "python",
   "pygments_lexer": "ipython3",
   "version": "3.8.8"
  }
 },
 "nbformat": 4,
 "nbformat_minor": 5
}
